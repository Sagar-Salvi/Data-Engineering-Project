{
 "cells": [
  {
   "cell_type": "code",
   "execution_count": 1,
   "metadata": {},
   "outputs": [],
   "source": [
    "from pyspark.sql import SparkSession\n",
    "from pyspark.sql import *\n",
    "import pyspark.sql.functions as F\n",
    "from pyspark.sql.functions import *\n",
    "from datetime import datetime"
   ]
  },
  {
   "cell_type": "code",
   "execution_count": 2,
   "metadata": {},
   "outputs": [],
   "source": [
    "spark = SparkSession.builder.master(\"local\").appName(\"ETL\").getOrCreate()"
   ]
  },
  {
   "cell_type": "code",
   "execution_count": 3,
   "metadata": {},
   "outputs": [
    {
     "data": {
      "text/html": [
       "\n",
       "            <div>\n",
       "                <p><b>SparkSession - hive</b></p>\n",
       "                \n",
       "        <div>\n",
       "            <p><b>SparkContext</b></p>\n",
       "\n",
       "            <p><a href=\"http://ip-172-31-3-99.us-east-2.compute.internal:4040\">Spark UI</a></p>\n",
       "\n",
       "            <dl>\n",
       "              <dt>Version</dt>\n",
       "                <dd><code>v3.3.2</code></dd>\n",
       "              <dt>Master</dt>\n",
       "                <dd><code>local[*]</code></dd>\n",
       "              <dt>AppName</dt>\n",
       "                <dd><code>PySparkShell</code></dd>\n",
       "            </dl>\n",
       "        </div>\n",
       "        \n",
       "            </div>\n",
       "        "
      ],
      "text/plain": [
       "<pyspark.sql.session.SparkSession at 0x7f5e4018f3a0>"
      ]
     },
     "execution_count": 3,
     "metadata": {},
     "output_type": "execute_result"
    }
   ],
   "source": [
    "spark"
   ]
  },
  {
   "cell_type": "code",
   "execution_count": 4,
   "metadata": {},
   "outputs": [],
   "source": [
    "Access_key_ID=\"*******************\"\n",
    "Secret_access_key=\"*******************************\"\n",
    "# Enable hadoop s3a settings\n",
    "spark.sparkContext._jsc.hadoopConfiguration().set(\"com.amazonaws.services.s3.enableV4\", \"true\")\n",
    "spark.sparkContext._jsc.hadoopConfiguration().set(\"fs.s3a.impl\", \"org.apache.hadoop.fs.s3a.S3AFileSystem\")\n",
    "spark.sparkContext._jsc.hadoopConfiguration().set(\"fs.s3a.aws.credentials.provider\", \\\n",
    "                                     \"com.amazonaws.auth.InstanceProfileCredentialsProvider,com.amazonaws.auth.DefaultAWSCredentialsProviderChain\")\n",
    "spark.sparkContext._jsc.hadoopConfiguration().set(\"fs.AbstractFileSystem.s3a.impl\", \"org.apache.hadoop.fs.s3a.S3A\")\n",
    "\n",
    "spark.sparkContext._jsc.hadoopConfiguration().set(\"fs.s3a.access.key\",Access_key_ID)\n",
    "spark.sparkContext._jsc.hadoopConfiguration().set(\"fs.s3a.secret.key\",Secret_access_key)\n",
    "spark.sparkContext._jsc.hadoopConfiguration().set(\"fs.s3a.endpoint\", \"s3.us-east-2.amazonaws.com\")"
   ]
  },
  {
   "cell_type": "code",
   "execution_count": 5,
   "metadata": {},
   "outputs": [],
   "source": [
    "df1=spark.read.format('csv').option(\"header\",\"true\").option(\"inferSchema\",\"true\").load(\"s3a://staging-area-datalake/1bank_2023-03-18.csv\")"
   ]
  },
  {
   "cell_type": "code",
   "execution_count": 6,
   "metadata": {},
   "outputs": [],
   "source": [
    "df2=spark.read.format('csv').option(\"header\",\"true\").option(\"inferSchema\",\"true\").load(\"s3a://staging-area-datalake/2bank_2023-03-18.csv\")"
   ]
  },
  {
   "cell_type": "code",
   "execution_count": 7,
   "metadata": {},
   "outputs": [
    {
     "name": "stdout",
     "output_type": "stream",
     "text": [
      "+---+-------------+-------+---------+--------+-------+-------+----+--------+---+-----+--------+--------+-----+--------+--------+------+\n",
      "|age|          job|marital|education|default1|balance|housing|loan| contact|day|month|duration|campaign|pdays|previous|poutcome|target|\n",
      "+---+-------------+-------+---------+--------+-------+-------+----+--------+---+-----+--------+--------+-----+--------+--------+------+\n",
      "| 30|   unemployed|married|  primary|      no|   1787|     no|  no|cellular| 19|  oct|      79|       1|   -1|       0| unknown|    no|\n",
      "| 33|     services|married|secondary|      no|   4789|    yes| yes|cellular| 11|  may|     220|       1|  339|       4| failure|    no|\n",
      "| 35|   management| single| tertiary|      no|   1350|    yes|  no|cellular| 16|  apr|     185|       1|  330|       1| failure|    no|\n",
      "| 30|   management|married| tertiary|      no|   1476|    yes| yes| unknown|  3|  jun|     199|       4|   -1|       0| unknown|    no|\n",
      "| 59|  blue-collar|married|secondary|      no|      0|    yes|  no| unknown|  5|  may|     226|       1|   -1|       0| unknown|    no|\n",
      "| 35|   management| single| tertiary|      no|    747|     no|  no|cellular| 23|  feb|     141|       2|  176|       3| failure|    no|\n",
      "| 36|self-employed|married| tertiary|      no|    307|    yes|  no|cellular| 14|  may|     341|       1|  330|       2|   other|    no|\n",
      "| 39|   technician|married|secondary|      no|    147|    yes|  no|cellular|  6|  may|     151|       2|   -1|       0| unknown|    no|\n",
      "| 41| entrepreneur|married| tertiary|      no|    221|    yes|  no| unknown| 14|  may|      57|       2|   -1|       0| unknown|    no|\n",
      "| 43|     services|married|  primary|      no|    -88|    yes| yes|cellular| 17|  apr|     313|       1|  147|       2| failure|    no|\n",
      "| 39|     services|married|secondary|      no|   9374|    yes|  no| unknown| 20|  may|     273|       1|   -1|       0| unknown|    no|\n",
      "| 43|       admin.|married|secondary|      no|    264|    yes|  no|cellular| 17|  apr|     113|       2|   -1|       0| unknown|    no|\n",
      "| 36|   technician|married| tertiary|      no|   1109|     no|  no|cellular| 13|  aug|     328|       2|   -1|       0| unknown|    no|\n",
      "| 20|      student| single|secondary|      no|    502|     no|  no|cellular| 30|  apr|     261|       1|   -1|       0| unknown|   yes|\n",
      "| 31|  blue-collar|married|secondary|      no|    360|    yes| yes|cellular| 29|  jan|      89|       1|  241|       1| failure|    no|\n",
      "| 40|   management|married| tertiary|      no|    194|     no| yes|cellular| 29|  aug|     189|       2|   -1|       0| unknown|    no|\n",
      "| 56|   technician|married|secondary|      no|   4073|     no|  no|cellular| 27|  aug|     239|       5|   -1|       0| unknown|    no|\n",
      "| 37|       admin.| single| tertiary|      no|   2317|    yes|  no|cellular| 20|  apr|     114|       1|  152|       2| failure|    no|\n",
      "| 25|  blue-collar| single|  primary|      no|   -221|    yes|  no| unknown| 23|  may|     250|       1|   -1|       0| unknown|    no|\n",
      "| 31|     services|married|secondary|      no|    132|     no|  no|cellular|  7|  jul|     148|       1|  152|       1|   other|    no|\n",
      "+---+-------------+-------+---------+--------+-------+-------+----+--------+---+-----+--------+--------+-----+--------+--------+------+\n",
      "only showing top 20 rows\n",
      "\n"
     ]
    }
   ],
   "source": [
    "df1.show()"
   ]
  },
  {
   "cell_type": "code",
   "execution_count": 8,
   "metadata": {},
   "outputs": [
    {
     "name": "stdout",
     "output_type": "stream",
     "text": [
      "+---+------------+--------+---------+--------+-------+-------+----+---------+---+-----+--------+--------+-----+--------+--------+------+\n",
      "|age|         job| marital|education|default1|balance|housing|loan|  contact|day|month|duration|campaign|pdays|previous|poutcome|target|\n",
      "+---+------------+--------+---------+--------+-------+-------+----+---------+---+-----+--------+--------+-----+--------+--------+------+\n",
      "| 34|   housemaid| married| tertiary|      no|  -4057|     no| yes| cellular| 31|  oct|    1068|      47|  358|      19| unknown|   yes|\n",
      "| 51|  unemployed|divorced|secondary|      no|  42925|     no| yes|telephone| 30|  may|    4585|       9|  505|      11| unknown|   yes|\n",
      "| 27|   housemaid| married|  primary|      no|  36947|     no| yes| cellular|  7|  jan|    4677|       5|   21|      20| unknown|   yes|\n",
      "| 35|  unemployed|  single|  primary|      no|  13263|    yes| yes| cellular|  5|  sep|    1964|       2|   87|      19| failure|   yes|\n",
      "| 44|   housemaid|  single|secondary|      no|  17029|    yes| yes| cellular| 11|  may|     793|      21|  551|      11| unknown|    no|\n",
      "| 76|    services| married|  primary|     yes|  21546|    yes| yes|  unknown|  3|  feb|    3720|      33|  422|      15| failure|   yes|\n",
      "| 64|    services| married| tertiary|     yes|  33373|     no|  no|  unknown|  4|  aug|    4898|      42|  816|       9| unknown|    no|\n",
      "| 21|entrepreneur|  single|secondary|     yes|  11163|    yes|  no|  unknown| 31|  oct|    1339|      28|  211|      11| unknown|   yes|\n",
      "| 80|  technician|  single|  primary|      no|  26321|    yes| yes|  unknown|  5|  mar|    4227|      19|  614|      20| success|   yes|\n",
      "| 56|  unemployed|  single|secondary|      no|  13784|     no|  no| cellular|  5|  jun|    1532|      45|  618|      14| unknown|   yes|\n",
      "| 70|       admin| married|secondary|      no|  12844|    yes|  no|  unknown| 15|  may|    4268|      38|  806|      16| failure|    no|\n",
      "| 62|       admin|divorced|  primary|     yes|    165|     no|  no|  unknown| 20|  oct|    4300|      20|  428|      20| failure|   yes|\n",
      "| 66|  unemployed| married|  primary|     yes|  31299|     no|  no|telephone| 16|  jul|    3007|       3|  861|      20| success|    no|\n",
      "| 23|     retired|divorced|  primary|      no|  33255|     no| yes|telephone| 29|  nov|    1443|      21|  419|       1| unknown|   yes|\n",
      "| 28|  management| married|secondary|      no|  14150|    yes| yes|telephone| 13|  feb|    3255|      23|  653|      16| success|   yes|\n",
      "| 44|   housemaid|divorced|  primary|      no|   6713|    yes| yes| cellular|  1|  jun|    4049|      37|  397|      10| failure|    no|\n",
      "| 59|   housemaid| married|secondary|      no|  -2269|     no|  no|telephone| 28|  feb|    4388|      30|   73|      18| unknown|    no|\n",
      "| 78|     retired| married| tertiary|      no|  31467|    yes| yes|telephone| 26|  mar|    1343|      41|  104|      20| unknown|   yes|\n",
      "| 38|  unemployed|divorced|secondary|      no|  29175|    yes|  no|telephone|  9|  oct|    4308|      25|  726|       8| unknown|   yes|\n",
      "| 62|    services|divorced|secondary|      no|  33888|    yes|  no|  unknown|  5|  dec|    3543|      45|  833|      14| failure|   yes|\n",
      "+---+------------+--------+---------+--------+-------+-------+----+---------+---+-----+--------+--------+-----+--------+--------+------+\n",
      "only showing top 20 rows\n",
      "\n"
     ]
    }
   ],
   "source": [
    "df2.show()"
   ]
  },
  {
   "cell_type": "code",
   "execution_count": 9,
   "metadata": {},
   "outputs": [
    {
     "name": "stdout",
     "output_type": "stream",
     "text": [
      "root\n",
      " |-- age: integer (nullable = true)\n",
      " |-- job: string (nullable = true)\n",
      " |-- marital: string (nullable = true)\n",
      " |-- education: string (nullable = true)\n",
      " |-- default1: string (nullable = true)\n",
      " |-- balance: integer (nullable = true)\n",
      " |-- housing: string (nullable = true)\n",
      " |-- loan: string (nullable = true)\n",
      " |-- contact: string (nullable = true)\n",
      " |-- day: integer (nullable = true)\n",
      " |-- month: string (nullable = true)\n",
      " |-- duration: integer (nullable = true)\n",
      " |-- campaign: integer (nullable = true)\n",
      " |-- pdays: integer (nullable = true)\n",
      " |-- previous: integer (nullable = true)\n",
      " |-- poutcome: string (nullable = true)\n",
      " |-- target: string (nullable = true)\n",
      "\n"
     ]
    }
   ],
   "source": [
    "# Schema of Dataframe 1\n",
    "\n",
    "df1.printSchema()"
   ]
  },
  {
   "cell_type": "code",
   "execution_count": 11,
   "metadata": {},
   "outputs": [
    {
     "name": "stdout",
     "output_type": "stream",
     "text": [
      "root\n",
      " |-- age: integer (nullable = true)\n",
      " |-- job: string (nullable = true)\n",
      " |-- marital: string (nullable = true)\n",
      " |-- education: string (nullable = true)\n",
      " |-- default1: string (nullable = true)\n",
      " |-- balance: integer (nullable = true)\n",
      " |-- housing: string (nullable = true)\n",
      " |-- loan: string (nullable = true)\n",
      " |-- contact: string (nullable = true)\n",
      " |-- day: integer (nullable = true)\n",
      " |-- month: string (nullable = true)\n",
      " |-- duration: integer (nullable = true)\n",
      " |-- campaign: integer (nullable = true)\n",
      " |-- pdays: integer (nullable = true)\n",
      " |-- previous: integer (nullable = true)\n",
      " |-- poutcome: string (nullable = true)\n",
      " |-- target: string (nullable = true)\n",
      "\n"
     ]
    }
   ],
   "source": [
    "#schema of Dataframe 2\n",
    "\n",
    "df2.printSchema()"
   ]
  },
  {
   "cell_type": "code",
   "execution_count": 12,
   "metadata": {},
   "outputs": [
    {
     "data": {
      "text/plain": [
       "4521"
      ]
     },
     "execution_count": 12,
     "metadata": {},
     "output_type": "execute_result"
    }
   ],
   "source": [
    "# Total Rows of Dataframe 1\n",
    "\n",
    "df1.count()"
   ]
  },
  {
   "cell_type": "code",
   "execution_count": 13,
   "metadata": {},
   "outputs": [
    {
     "data": {
      "text/plain": [
       "550"
      ]
     },
     "execution_count": 13,
     "metadata": {},
     "output_type": "execute_result"
    }
   ],
   "source": [
    "# Total Rows of Dataframe 2\n",
    "\n",
    "df2.count()"
   ]
  },
  {
   "cell_type": "code",
   "execution_count": 19,
   "metadata": {},
   "outputs": [
    {
     "name": "stdout",
     "output_type": "stream",
     "text": [
      "0\n"
     ]
    }
   ],
   "source": [
    "# Find duplicate rows in Dataframe 1\n",
    "\n",
    "duplicate_rows = df1.count() - df1.dropDuplicates().count()\n",
    "print(duplicate_rows)"
   ]
  },
  {
   "cell_type": "code",
   "execution_count": 20,
   "metadata": {},
   "outputs": [
    {
     "name": "stdout",
     "output_type": "stream",
     "text": [
      "10\n"
     ]
    }
   ],
   "source": [
    "# Find duplicate rows in Dataframe 2\n",
    "\n",
    "duplicate_rows = df2.count() - df2.dropDuplicates().count()\n",
    "print(duplicate_rows)"
   ]
  },
  {
   "cell_type": "code",
   "execution_count": 21,
   "metadata": {},
   "outputs": [],
   "source": [
    "# Drop duplicate rows and update the original DataFrame\n",
    "df2 = df2.dropDuplicates()"
   ]
  },
  {
   "cell_type": "code",
   "execution_count": 22,
   "metadata": {},
   "outputs": [
    {
     "data": {
      "text/plain": [
       "540"
      ]
     },
     "execution_count": 22,
     "metadata": {},
     "output_type": "execute_result"
    }
   ],
   "source": [
    "df2.count()"
   ]
  },
  {
   "cell_type": "code",
   "execution_count": 23,
   "metadata": {},
   "outputs": [
    {
     "name": "stdout",
     "output_type": "stream",
     "text": [
      "+---+---+-------+---------+--------+-------+-------+----+-------+---+-----+--------+--------+-----+--------+--------+------+\n",
      "|age|job|marital|education|default1|balance|housing|loan|contact|day|month|duration|campaign|pdays|previous|poutcome|target|\n",
      "+---+---+-------+---------+--------+-------+-------+----+-------+---+-----+--------+--------+-----+--------+--------+------+\n",
      "|  0|  0|      0|        0|       0|      0|      0|   0|      0|  0|    0|       0|       0|    0|       0|       0|     0|\n",
      "+---+---+-------+---------+--------+-------+-------+----+-------+---+-----+--------+--------+-----+--------+--------+------+\n",
      "\n"
     ]
    }
   ],
   "source": [
    "# Finding Null values in Dataframe 1\n",
    "\n",
    "df1.select([count(when(isnan(c),c)).alias(c) for c in df1.columns]).show()"
   ]
  },
  {
   "cell_type": "code",
   "execution_count": 24,
   "metadata": {},
   "outputs": [
    {
     "name": "stdout",
     "output_type": "stream",
     "text": [
      "+---+---+-------+---------+--------+-------+-------+----+-------+---+-----+--------+--------+-----+--------+--------+------+\n",
      "|age|job|marital|education|default1|balance|housing|loan|contact|day|month|duration|campaign|pdays|previous|poutcome|target|\n",
      "+---+---+-------+---------+--------+-------+-------+----+-------+---+-----+--------+--------+-----+--------+--------+------+\n",
      "|  0|  0|      0|        0|       0|      0|      0|   0|      0|  0|    0|       0|       0|    0|       0|       0|     0|\n",
      "+---+---+-------+---------+--------+-------+-------+----+-------+---+-----+--------+--------+-----+--------+--------+------+\n",
      "\n"
     ]
    }
   ],
   "source": [
    "null_counts = df1.agg(*[count(when(col(c).isNull(), c)).alias(c) for c in df1.columns])\n",
    "\n",
    "# Display the null counts\n",
    "null_counts.show()"
   ]
  },
  {
   "cell_type": "code",
   "execution_count": 25,
   "metadata": {},
   "outputs": [
    {
     "name": "stdout",
     "output_type": "stream",
     "text": [
      "+---+---+-------+---------+--------+-------+-------+----+-------+---+-----+--------+--------+-----+--------+--------+------+\n",
      "|age|job|marital|education|default1|balance|housing|loan|contact|day|month|duration|campaign|pdays|previous|poutcome|target|\n",
      "+---+---+-------+---------+--------+-------+-------+----+-------+---+-----+--------+--------+-----+--------+--------+------+\n",
      "|  0|  0|      0|        0|       0|      0|      0|   0|      0|  0|    0|       0|       0|    0|       0|       0|     0|\n",
      "+---+---+-------+---------+--------+-------+-------+----+-------+---+-----+--------+--------+-----+--------+--------+------+\n",
      "\n"
     ]
    }
   ],
   "source": [
    "# Finding Null values in Dataframe 2\n",
    "\n",
    "df2.select([count(when(isnan(c),c)).alias(c) for c in df2.columns]).show()"
   ]
  },
  {
   "cell_type": "code",
   "execution_count": 26,
   "metadata": {},
   "outputs": [
    {
     "name": "stdout",
     "output_type": "stream",
     "text": [
      "+---+---+-------+---------+--------+-------+-------+----+-------+---+-----+--------+--------+-----+--------+--------+------+\n",
      "|age|job|marital|education|default1|balance|housing|loan|contact|day|month|duration|campaign|pdays|previous|poutcome|target|\n",
      "+---+---+-------+---------+--------+-------+-------+----+-------+---+-----+--------+--------+-----+--------+--------+------+\n",
      "|  0|  0|      0|        0|      40|      0|      0|  40|      0|  0|    0|       0|       0|    0|       0|      40|     0|\n",
      "+---+---+-------+---------+--------+-------+-------+----+-------+---+-----+--------+--------+-----+--------+--------+------+\n",
      "\n"
     ]
    }
   ],
   "source": [
    "null_counts = df2.agg(*[count(when(col(c).isNull(), c)).alias(c) for c in df2.columns])\n",
    "\n",
    "# Display the null counts\n",
    "null_counts.show()"
   ]
  },
  {
   "cell_type": "code",
   "execution_count": 29,
   "metadata": {},
   "outputs": [],
   "source": [
    "# Calculate mode of the column\n",
    "mode = df2.groupBy('default1').agg(count('*').alias('count')).orderBy(col('count').desc()).select(col('default1')).first()[0]\n",
    "\n",
    "# Fill null values with mode value\n",
    "df2 = df2.fillna(mode, subset=['default1'])"
   ]
  },
  {
   "cell_type": "code",
   "execution_count": 31,
   "metadata": {},
   "outputs": [],
   "source": [
    "# Calculate mode of the column\n",
    "mode = df2.groupBy('loan').agg(count('*').alias('count')).orderBy(col('count').desc()).select(col('loan')).first()[0]\n",
    "\n",
    "# Fill null values with mode value\n",
    "df2 = df2.fillna(mode, subset=['loan'])"
   ]
  },
  {
   "cell_type": "code",
   "execution_count": 32,
   "metadata": {},
   "outputs": [],
   "source": [
    "# Calculate mode of the column\n",
    "mode = df2.groupBy('poutcome').agg(count('*').alias('count')).orderBy(col('count').desc()).select(col('poutcome')).first()[0]\n",
    "\n",
    "# Fill null values with mode value\n",
    "df2 = df2.fillna(mode, subset=['poutcome'])"
   ]
  },
  {
   "cell_type": "code",
   "execution_count": 33,
   "metadata": {},
   "outputs": [
    {
     "name": "stdout",
     "output_type": "stream",
     "text": [
      "+---+---+-------+---------+--------+-------+-------+----+-------+---+-----+--------+--------+-----+--------+--------+------+\n",
      "|age|job|marital|education|default1|balance|housing|loan|contact|day|month|duration|campaign|pdays|previous|poutcome|target|\n",
      "+---+---+-------+---------+--------+-------+-------+----+-------+---+-----+--------+--------+-----+--------+--------+------+\n",
      "|  0|  0|      0|        0|       0|      0|      0|   0|      0|  0|    0|       0|       0|    0|       0|       0|     0|\n",
      "+---+---+-------+---------+--------+-------+-------+----+-------+---+-----+--------+--------+-----+--------+--------+------+\n",
      "\n"
     ]
    }
   ],
   "source": [
    "null_counts = df2.agg(*[count(when(col(c).isNull(), c)).alias(c) for c in df2.columns])\n",
    "\n",
    "# Display the null counts\n",
    "null_counts.show()"
   ]
  },
  {
   "cell_type": "code",
   "execution_count": 34,
   "metadata": {},
   "outputs": [
    {
     "name": "stdout",
     "output_type": "stream",
     "text": [
      "root\n",
      " |-- age: integer (nullable = true)\n",
      " |-- job: string (nullable = true)\n",
      " |-- marital: string (nullable = true)\n",
      " |-- education: string (nullable = true)\n",
      " |-- default1: string (nullable = true)\n",
      " |-- balance: integer (nullable = true)\n",
      " |-- housing: string (nullable = true)\n",
      " |-- loan: string (nullable = true)\n",
      " |-- contact: string (nullable = true)\n",
      " |-- day: integer (nullable = true)\n",
      " |-- month: string (nullable = true)\n",
      " |-- duration: integer (nullable = true)\n",
      " |-- campaign: integer (nullable = true)\n",
      " |-- pdays: integer (nullable = true)\n",
      " |-- previous: integer (nullable = true)\n",
      " |-- poutcome: string (nullable = true)\n",
      " |-- target: string (nullable = true)\n",
      "\n"
     ]
    }
   ],
   "source": [
    "df1.printSchema()"
   ]
  },
  {
   "cell_type": "code",
   "execution_count": 35,
   "metadata": {},
   "outputs": [
    {
     "name": "stdout",
     "output_type": "stream",
     "text": [
      "root\n",
      " |-- age: integer (nullable = true)\n",
      " |-- job: string (nullable = true)\n",
      " |-- marital: string (nullable = true)\n",
      " |-- education: string (nullable = true)\n",
      " |-- default1: string (nullable = false)\n",
      " |-- balance: integer (nullable = true)\n",
      " |-- housing: string (nullable = true)\n",
      " |-- loan: string (nullable = false)\n",
      " |-- contact: string (nullable = true)\n",
      " |-- day: integer (nullable = true)\n",
      " |-- month: string (nullable = true)\n",
      " |-- duration: integer (nullable = true)\n",
      " |-- campaign: integer (nullable = true)\n",
      " |-- pdays: integer (nullable = true)\n",
      " |-- previous: integer (nullable = true)\n",
      " |-- poutcome: string (nullable = false)\n",
      " |-- target: string (nullable = true)\n",
      "\n"
     ]
    }
   ],
   "source": [
    "df2.printSchema()"
   ]
  },
  {
   "cell_type": "code",
   "execution_count": 37,
   "metadata": {},
   "outputs": [],
   "source": [
    "# concatenate the two dataframes\n",
    "\n",
    "df = df1.union(df2)"
   ]
  },
  {
   "cell_type": "code",
   "execution_count": 38,
   "metadata": {},
   "outputs": [
    {
     "data": {
      "text/plain": [
       "5061"
      ]
     },
     "execution_count": 38,
     "metadata": {},
     "output_type": "execute_result"
    }
   ],
   "source": [
    "#Total Records after joining both dataframe\n",
    "\n",
    "df.count()"
   ]
  },
  {
   "cell_type": "code",
   "execution_count": 41,
   "metadata": {},
   "outputs": [
    {
     "name": "stdout",
     "output_type": "stream",
     "text": [
      "+---+-------------+--------+---------+--------+-------+-------+----+---------+---+-----+--------+--------+-----+--------+--------+------+\n",
      "|age|job          |marital |education|default1|balance|housing|loan|contact  |day|month|duration|campaign|pdays|previous|poutcome|target|\n",
      "+---+-------------+--------+---------+--------+-------+-------+----+---------+---+-----+--------+--------+-----+--------+--------+------+\n",
      "|30 |unemployed   |married |primary  |no      |1787   |no     |no  |cellular |19 |oct  |79      |1       |-1   |0       |unknown |no    |\n",
      "|33 |services     |married |secondary|no      |4789   |yes    |yes |cellular |11 |may  |220     |1       |339  |4       |failure |no    |\n",
      "|35 |management   |single  |tertiary |no      |1350   |yes    |no  |cellular |16 |apr  |185     |1       |330  |1       |failure |no    |\n",
      "|30 |management   |married |tertiary |no      |1476   |yes    |yes |unknown  |3  |jun  |199     |4       |-1   |0       |unknown |no    |\n",
      "|59 |blue-collar  |married |secondary|no      |0      |yes    |no  |unknown  |5  |may  |226     |1       |-1   |0       |unknown |no    |\n",
      "|35 |management   |single  |tertiary |no      |747    |no     |no  |cellular |23 |feb  |141     |2       |176  |3       |failure |no    |\n",
      "|36 |self-employed|married |tertiary |no      |307    |yes    |no  |cellular |14 |may  |341     |1       |330  |2       |other   |no    |\n",
      "|39 |technician   |married |secondary|no      |147    |yes    |no  |cellular |6  |may  |151     |2       |-1   |0       |unknown |no    |\n",
      "|41 |entrepreneur |married |tertiary |no      |221    |yes    |no  |unknown  |14 |may  |57      |2       |-1   |0       |unknown |no    |\n",
      "|43 |services     |married |primary  |no      |-88    |yes    |yes |cellular |17 |apr  |313     |1       |147  |2       |failure |no    |\n",
      "|39 |services     |married |secondary|no      |9374   |yes    |no  |unknown  |20 |may  |273     |1       |-1   |0       |unknown |no    |\n",
      "|43 |admin.       |married |secondary|no      |264    |yes    |no  |cellular |17 |apr  |113     |2       |-1   |0       |unknown |no    |\n",
      "|36 |technician   |married |tertiary |no      |1109   |no     |no  |cellular |13 |aug  |328     |2       |-1   |0       |unknown |no    |\n",
      "|20 |student      |single  |secondary|no      |502    |no     |no  |cellular |30 |apr  |261     |1       |-1   |0       |unknown |yes   |\n",
      "|31 |blue-collar  |married |secondary|no      |360    |yes    |yes |cellular |29 |jan  |89      |1       |241  |1       |failure |no    |\n",
      "|40 |management   |married |tertiary |no      |194    |no     |yes |cellular |29 |aug  |189     |2       |-1   |0       |unknown |no    |\n",
      "|56 |technician   |married |secondary|no      |4073   |no     |no  |cellular |27 |aug  |239     |5       |-1   |0       |unknown |no    |\n",
      "|37 |admin.       |single  |tertiary |no      |2317   |yes    |no  |cellular |20 |apr  |114     |1       |152  |2       |failure |no    |\n",
      "|25 |blue-collar  |single  |primary  |no      |-221   |yes    |no  |unknown  |23 |may  |250     |1       |-1   |0       |unknown |no    |\n",
      "|31 |services     |married |secondary|no      |132    |no     |no  |cellular |7  |jul  |148     |1       |152  |1       |other   |no    |\n",
      "|38 |management   |divorced|unknown  |no      |0      |yes    |no  |cellular |18 |nov  |96      |2       |-1   |0       |unknown |no    |\n",
      "|42 |management   |divorced|tertiary |no      |16     |no     |no  |cellular |19 |nov  |140     |3       |-1   |0       |unknown |no    |\n",
      "|44 |services     |single  |secondary|no      |106    |no     |no  |unknown  |12 |jun  |109     |2       |-1   |0       |unknown |no    |\n",
      "|44 |entrepreneur |married |secondary|no      |93     |no     |no  |cellular |7  |jul  |125     |2       |-1   |0       |unknown |no    |\n",
      "|26 |housemaid    |married |tertiary |no      |543    |no     |no  |cellular |30 |jan  |169     |3       |-1   |0       |unknown |no    |\n",
      "|41 |management   |married |tertiary |no      |5883   |no     |no  |cellular |20 |nov  |182     |2       |-1   |0       |unknown |no    |\n",
      "|55 |blue-collar  |married |primary  |no      |627    |yes    |no  |unknown  |5  |may  |247     |1       |-1   |0       |unknown |no    |\n",
      "|67 |retired      |married |unknown  |no      |696    |no     |no  |telephone|17 |aug  |119     |1       |105  |2       |failure |no    |\n",
      "|56 |self-employed|married |secondary|no      |784    |no     |yes |cellular |30 |jul  |149     |2       |-1   |0       |unknown |no    |\n",
      "|53 |admin.       |married |secondary|no      |105    |no     |yes |cellular |21 |aug  |74      |2       |-1   |0       |unknown |no    |\n",
      "|68 |retired      |divorced|secondary|no      |4189   |no     |no  |telephone|14 |jul  |897     |2       |-1   |0       |unknown |yes   |\n",
      "|31 |technician   |married |secondary|no      |171    |no     |no  |cellular |27 |aug  |81      |3       |-1   |0       |unknown |no    |\n",
      "|59 |management   |married |secondary|no      |42     |no     |no  |cellular |21 |nov  |40      |1       |-1   |0       |unknown |no    |\n",
      "|32 |management   |single  |tertiary |no      |2536   |yes    |no  |cellular |26 |aug  |958     |6       |-1   |0       |unknown |yes   |\n",
      "|49 |technician   |married |tertiary |no      |1235   |no     |no  |cellular |13 |aug  |354     |3       |-1   |0       |unknown |yes   |\n",
      "|42 |admin.       |divorced|secondary|no      |1811   |yes    |no  |unknown  |14 |may  |150     |1       |-1   |0       |unknown |no    |\n",
      "|78 |retired      |divorced|primary  |no      |229    |no     |no  |telephone|22 |oct  |97      |1       |-1   |0       |unknown |yes   |\n",
      "|32 |blue-collar  |married |secondary|no      |2089   |yes    |no  |cellular |14 |nov  |132     |1       |-1   |0       |unknown |yes   |\n",
      "|33 |management   |married |secondary|no      |3935   |yes    |no  |cellular |6  |may  |765     |1       |342  |2       |failure |yes   |\n",
      "|23 |services     |single  |tertiary |no      |363    |yes    |no  |unknown  |30 |may  |16      |18      |-1   |0       |unknown |no    |\n",
      "|38 |management   |single  |tertiary |no      |11971  |yes    |no  |unknown  |17 |nov  |609     |2       |101  |3       |failure |no    |\n",
      "|36 |management   |single  |tertiary |no      |553    |no     |no  |cellular |11 |aug  |106     |2       |-1   |0       |unknown |no    |\n",
      "|52 |blue-collar  |married |secondary|no      |1117   |yes    |no  |cellular |13 |may  |365     |1       |-1   |0       |unknown |no    |\n",
      "|32 |technician   |married |tertiary |no      |396    |yes    |no  |cellular |13 |may  |205     |3       |-1   |0       |unknown |no    |\n",
      "|32 |technician   |single  |tertiary |no      |2204   |yes    |no  |cellular |21 |nov  |11      |4       |-1   |0       |unknown |no    |\n",
      "|34 |management   |single  |tertiary |no      |872    |yes    |no  |unknown  |7  |may  |105     |2       |-1   |0       |unknown |no    |\n",
      "|55 |blue-collar  |married |primary  |no      |145    |no     |no  |telephone|2  |feb  |59      |3       |5    |2       |other   |no    |\n",
      "|26 |blue-collar  |married |primary  |no      |0      |yes    |no  |unknown  |21 |may  |425     |1       |-1   |0       |unknown |no    |\n",
      "|32 |entrepreneur |single  |primary  |yes     |-849   |yes    |yes |cellular |4  |feb  |204     |1       |-1   |0       |unknown |no    |\n",
      "|61 |admin.       |married |unknown  |no      |4629   |yes    |no  |cellular |27 |jan  |181     |1       |92   |1       |success |yes   |\n",
      "+---+-------------+--------+---------+--------+-------+-------+----+---------+---+-----+--------+--------+-----+--------+--------+------+\n",
      "only showing top 50 rows\n",
      "\n"
     ]
    }
   ],
   "source": [
    "df.show(50,truncate=False)"
   ]
  },
  {
   "cell_type": "code",
   "execution_count": 43,
   "metadata": {},
   "outputs": [],
   "source": [
    "# Configure Redshift credentials and database information\n",
    "redshift_jdbc_url = \"jdbc:redshift://redshift.clxkpdwlmkpt.us-east-2.redshift.amazonaws.com:5439/dev\"\n",
    "redshift_user = \"awsuser\"\n",
    "redshift_password = \"AWS$user7\"\n",
    "redshift_database = \"dev\"\n",
    "redshift_table = \"bank\""
   ]
  },
  {
   "cell_type": "code",
   "execution_count": 44,
   "metadata": {},
   "outputs": [],
   "source": [
    "# Write DataFrame to Redshift\n",
    "df.write \\\n",
    "    .format(\"jdbc\") \\\n",
    "    .option(\"url\", redshift_jdbc_url) \\\n",
    "    .option(\"dbtable\", redshift_table) \\\n",
    "    .option(\"user\", redshift_user) \\\n",
    "    .option(\"password\", redshift_password) \\\n",
    "    .option(\"truncate\", \"true\") \\\n",
    "    .mode(\"append\") \\\n",
    "    .save()"
   ]
  },
  {
   "cell_type": "code",
   "execution_count": null,
   "metadata": {},
   "outputs": [],
   "source": []
  }
 ],
 "metadata": {
  "kernelspec": {
   "display_name": "Python 3",
   "language": "python",
   "name": "python3"
  },
  "language_info": {
   "codemirror_mode": {
    "name": "ipython",
    "version": 3
   },
   "file_extension": ".py",
   "mimetype": "text/x-python",
   "name": "python",
   "nbconvert_exporter": "python",
   "pygments_lexer": "ipython3",
   "version": "3.8.10"
  }
 },
 "nbformat": 4,
 "nbformat_minor": 4
}
